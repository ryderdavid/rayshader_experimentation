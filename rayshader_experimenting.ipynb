{
  "nbformat": 4,
  "nbformat_minor": 0,
  "metadata": {
    "colab": {
      "name": "rayshader_experimenting.ipynb",
      "provenance": [],
      "authorship_tag": "ABX9TyNJr2uZ/jibChtWbCodpIyR",
      "include_colab_link": true
    },
    "kernelspec": {
      "name": "ir",
      "display_name": "R"
    }
  },
  "cells": [
    {
      "cell_type": "markdown",
      "metadata": {
        "id": "view-in-github",
        "colab_type": "text"
      },
      "source": [
        "<a href=\"https://colab.research.google.com/github/ryderdavid/rayshader_experimentation/blob/main/rayshader_experimenting.ipynb\" target=\"_parent\"><img src=\"https://colab.research.google.com/assets/colab-badge.svg\" alt=\"Open In Colab\"/></a>"
      ]
    },
    {
      "cell_type": "code",
      "metadata": {
        "colab": {
          "base_uri": "https://localhost:8080/"
        },
        "id": "O1GI4-_1UmyR",
        "outputId": "f35241ec-75dd-4f78-dabb-6fdd5aefc807"
      },
      "source": [
        "devtools::install_github(\"tylermorganwall/rayshader\")"
      ],
      "execution_count": null,
      "outputs": [
        {
          "output_type": "stream",
          "text": [
            "Downloading GitHub repo tylermorganwall/rayshader@HEAD\n",
            "\n"
          ],
          "name": "stderr"
        },
        {
          "output_type": "stream",
          "text": [
            "miniUI       (NA -> 0.1.1.1) [CRAN]\n",
            "raster       (NA -> 3.4-5  ) [CRAN]\n",
            "manipulat... (NA -> 0.10.1 ) [CRAN]\n",
            "foreach      (NA -> 1.5.1  ) [CRAN]\n",
            "rayimage     (NA -> 0.3.1  ) [CRAN]\n",
            "rgl          (NA -> 0.103.5) [CRAN]\n",
            "doParallel   (NA -> 1.0.16 ) [CRAN]\n"
          ],
          "name": "stdout"
        },
        {
          "output_type": "stream",
          "text": [
            "Installing 7 packages: miniUI, raster, manipulateWidget, foreach, rayimage, rgl, doParallel\n",
            "\n",
            "Installing packages into ‘/usr/local/lib/R/site-library’\n",
            "(as ‘lib’ is unspecified)\n",
            "\n"
          ],
          "name": "stderr"
        },
        {
          "output_type": "stream",
          "text": [
            "\u001b[32m✔\u001b[39m  \u001b[90mchecking for file ‘/tmp/Rtmp3Dgs88/remotes396c81532b/tylermorganwall-rayshader-f08ef70/DESCRIPTION’\u001b[39m\u001b[36m\u001b[39m\n",
            "\u001b[90m─\u001b[39m\u001b[90m  \u001b[39m\u001b[90mpreparing ‘rayshader’:\u001b[39m\u001b[36m\u001b[39m\n",
            "\u001b[32m✔\u001b[39m  \u001b[90mchecking DESCRIPTION meta-information\u001b[39m\u001b[36m\u001b[39m\n",
            "\u001b[90m─\u001b[39m\u001b[90m  \u001b[39m\u001b[90mcleaning src\u001b[39m\u001b[36m\u001b[39m\n",
            "\u001b[90m─\u001b[39m\u001b[90m  \u001b[39m\u001b[90mchecking for LF line-endings in source and make files and shell scripts\u001b[39m\u001b[36m\u001b[39m\n",
            "\u001b[90m─\u001b[39m\u001b[90m  \u001b[39m\u001b[90mchecking for empty or unneeded directories\u001b[39m\u001b[36m\u001b[39m\n",
            "   Removed empty directory ‘rayshader/tools’\n",
            "\u001b[90m─\u001b[39m\u001b[90m  \u001b[39m\u001b[90mbuilding ‘rayshader_0.20.0.tar.gz’\u001b[39m\u001b[36m\u001b[39m\n",
            "   \n"
          ],
          "name": "stdout"
        },
        {
          "output_type": "stream",
          "text": [
            "Installing package into ‘/usr/local/lib/R/site-library’\n",
            "(as ‘lib’ is unspecified)\n",
            "\n"
          ],
          "name": "stderr"
        }
      ]
    },
    {
      "cell_type": "code",
      "metadata": {
        "colab": {
          "base_uri": "https://localhost:8080/"
        },
        "id": "hnRE_fzaUZyY",
        "outputId": "fd30e1a0-af5d-4dad-9661-3ce9ffeeca43"
      },
      "source": [
        "\r\n",
        "library(rayshader)\r\n",
        "library(raster)\r\n",
        "\r\n",
        "# quick function to extract a matrix from the raw raster\r\n",
        "matrix_extract <- function(raw_raster) {\r\n",
        "  matrix(raster::extract(raw_raster, extent(raw_raster), buffer = 1000), \r\n",
        "         nrow = ncol(raw_raster), \r\n",
        "         ncol = nrow(raw_raster))\r\n",
        "  \r\n",
        "}"
      ],
      "execution_count": null,
      "outputs": [
        {
          "output_type": "stream",
          "text": [
            "Warning message in rgl.init(initValue, onlyNULL):\n",
            "“RGL: unable to open X11 display”\n",
            "Warning message:\n",
            "“'rgl.init' failed, running with 'rgl.useNULL = TRUE'.”\n",
            "Loading required package: sp\n",
            "\n"
          ],
          "name": "stderr"
        }
      ]
    },
    {
      "cell_type": "code",
      "metadata": {
        "id": "jGJGdw2MZXmh"
      },
      "source": [
        ""
      ],
      "execution_count": null,
      "outputs": []
    }
  ]
}